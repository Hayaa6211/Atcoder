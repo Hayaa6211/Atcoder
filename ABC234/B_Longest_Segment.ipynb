{
 "cells": [
  {
   "cell_type": "markdown",
   "metadata": {},
   "source": [
    "### 問題文\n",
    "二次元平面上にN個の点があります．i個目の点の座標は(x_i,y_i)です．\n",
    "この中から2個の点を選ぶとき，それらを結ぶ線分の長さの最大値を求めてください．"
   ]
  },
  {
   "cell_type": "markdown",
   "metadata": {},
   "source": [
    "### 制約\n",
    "- 2\\ leq N \\leq100\n",
    "- -1000 \\ leq x_i,y_i \\ leq1000\n",
    "- (x_i,y_i) \\ neq(x_j,y_j) \\ (i/neqj)\n",
    "- 入力はすべて整数"
   ]
  },
  {
   "cell_type": "markdown",
   "metadata": {},
   "source": [
    "### 入力\n",
    "\n",
    "```\n",
    "N\n",
    "x_1 y_1\n",
    "x_2 y_2\n",
    "~\n",
    "xN yN\n",
    "```"
   ]
  },
  {
   "cell_type": "markdown",
   "metadata": {},
   "source": [
    "### 出力\n",
    "2点を結ぶ線分の長さの最大値を出力せよ。想定解との絶対誤差または相対誤差が10^-6以下であれば正解とみなされる。"
   ]
  },
  {
   "cell_type": "markdown",
   "metadata": {},
   "source": [
    "### 入力例1\n",
    "```\n",
    "3\n",
    "0 0\n",
    "0 1\n",
    "1 1\n",
    "```"
   ]
  },
  {
   "cell_type": "markdown",
   "metadata": {},
   "source": [
    "### 出力例1\n",
    "```\n",
    "1.4142135624\n",
    "```"
   ]
  },
  {
   "cell_type": "markdown",
   "metadata": {},
   "source": [
    "### 入力例2\n",
    "```\n",
    "5\n",
    "315 217\n",
    "-2 -621\n",
    "-205 -511\n",
    "-952 482\n",
    "165 463\n",
    "```"
   ]
  },
  {
   "cell_type": "markdown",
   "metadata": {},
   "source": [
    "### 出力例\n",
    "1455.7159750446"
   ]
  },
  {
   "cell_type": "markdown",
   "metadata": {},
   "source": [
    "### 解説\n",
    "この問題ではNの制約が100以下と小さいため，すべての点を結ぶ線分の長さを求めたうえでその最大値をとっても実行時間に余裕がある．  \n",
    "2点を結ぶ線分の長さはされらのユークリッド距離に等しく，$\\sqrt{(x_i-x_j)^2+(y_i-y_j)^2}$である"
   ]
  },
  {
   "cell_type": "code",
   "execution_count": 2,
   "metadata": {},
   "outputs": [
    {
     "name": "stdout",
     "output_type": "stream",
     "text": [
      "1455.7159750445826\n"
     ]
    }
   ],
   "source": [
    "### 実装例\n",
    "\n",
    "from math import sqrt\n",
    "N = int(input())\n",
    "\n",
    "x = [0]*N\n",
    "y = [0]*N\n",
    "\n",
    "for i in range(N):\n",
    "    x[i],y[i] = map(int,input().split())\n",
    "\n",
    "ans = 0\n",
    "\n",
    "for i in range(N):\n",
    "    for j in range(i+1,N):\n",
    "        X = (x[i]-x[j])**2\n",
    "        Y = (y[i]-y[j])**2\n",
    "        ans = max(ans,sqrt(X+Y))\n",
    "print(ans)"
   ]
  }
 ],
 "metadata": {
  "interpreter": {
   "hash": "da216224a89ef4fbb73abd6fc5eb640fbc60e5a70737ec6bd12200ce5b3f421e"
  },
  "kernelspec": {
   "display_name": "Python 3.9.6 64-bit ('atcoder': venv)",
   "language": "python",
   "name": "python3"
  },
  "language_info": {
   "codemirror_mode": {
    "name": "ipython",
    "version": 3
   },
   "file_extension": ".py",
   "mimetype": "text/x-python",
   "name": "python",
   "nbconvert_exporter": "python",
   "pygments_lexer": "ipython3",
   "version": "3.9.6"
  },
  "orig_nbformat": 4
 },
 "nbformat": 4,
 "nbformat_minor": 2
}
