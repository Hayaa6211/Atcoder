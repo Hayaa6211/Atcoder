{
 "cells": [
  {
   "cell_type": "markdown",
   "metadata": {},
   "source": [
    "### 問題\n",
    "文字列$S$が与えられます．$S$の空ではない，<b>連続するとは限らない</b>部分列を並び替えて得られる文字列は何種類ありますか？\n",
    "答えは非常に大きくなる可能性があるので998244353で割ったあまりを出力してください。"
   ]
  },
  {
   "cell_type": "markdown",
   "metadata": {},
   "source": [
    "### 制約\n",
    "- $S$は英数字のみからなる長さ1以上5000以下の文字列"
   ]
  },
  {
   "cell_type": "markdown",
   "metadata": {},
   "source": [
    "### 入力\n",
    "$S$"
   ]
  },
  {
   "cell_type": "markdown",
   "metadata": {},
   "source": [
    "### 出力\n",
    "$S$の部分列を並び替えて得られる文字列の種類数を998244353で割ったあまりを出力せよ"
   ]
  },
  {
   "cell_type": "markdown",
   "metadata": {},
   "source": [
    "### 入力例(1)\n",
    "aab"
   ]
  },
  {
   "cell_type": "markdown",
   "metadata": {},
   "source": [
    "### 出力例(1)\n",
    "8"
   ]
  },
  {
   "cell_type": "markdown",
   "metadata": {},
   "source": [
    "### 入力例(2)\n",
    "aaa"
   ]
  },
  {
   "cell_type": "markdown",
   "metadata": {},
   "source": [
    "### 出力例(2)\n",
    "3"
   ]
  },
  {
   "cell_type": "markdown",
   "metadata": {},
   "source": [
    "### 入力例(3)\n",
    "abcdefghijklmnopqrstuvwxyz"
   ]
  },
  {
   "cell_type": "markdown",
   "metadata": {},
   "source": [
    "### 出力例(3)\n",
    "149621752"
   ]
  },
  {
   "cell_type": "markdown",
   "metadata": {},
   "source": [
    "### 解説\n",
    "$S$の空でない連続した部分列$S'$を並び替えて得られる文字列の種類数は$S'$における各アルファベットの出現数のみに依存する． \n",
    "そのためこの問題は\n",
    "- 何番目のアルファベットまでを使ったか\n",
    "- 合計で何文字使ったか\n",
    "\n",
    "が大切．"
   ]
  }
 ],
 "metadata": {
  "interpreter": {
   "hash": "da216224a89ef4fbb73abd6fc5eb640fbc60e5a70737ec6bd12200ce5b3f421e"
  },
  "kernelspec": {
   "display_name": "Python 3.9.6 64-bit ('atcoder': venv)",
   "language": "python",
   "name": "python3"
  },
  "language_info": {
   "name": "python",
   "version": "3.9.6"
  },
  "orig_nbformat": 4
 },
 "nbformat": 4,
 "nbformat_minor": 2
}
