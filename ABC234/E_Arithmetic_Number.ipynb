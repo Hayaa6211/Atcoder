{
 "cells": [
  {
   "cell_type": "markdown",
   "metadata": {},
   "source": [
    "### 問題\n",
    "以下の条件を満たす正の整数 n を<b>等差数</b>と呼びます。\n",
    "- $n$を先頭に余計な0を付けずに10進法で表記した際，$n$の上から$i$桁目を$d_i$とする．この時，$n$が$k$桁の整数であったとすると，$(d_2-d_1)=(d_3-d_2)=...=(d_k-d_k-1)$が成立する．\n",
    "    - この条件は,「数列$(d_1,d_2,...,d_k)$が等差数列である」と言い換えることができる．\n",
    "    - ただし，$n$が1桁の整数であるとき，nは等差数であるものとする．  \n",
    "\n",
    "例えば<b>234,369,86420,17,95,8,11,777</b>は等差数ですが<b>751,919,2022,246810,2356</b>は等差数ではありません。  \n",
    "等差数のうち，X以上で最小のものを求めてください．"
   ]
  },
  {
   "cell_type": "markdown",
   "metadata": {},
   "source": [
    "### 制約\n",
    "$X$は$1 <= 10^{17} $の整数である．\n"
   ]
  },
  {
   "cell_type": "markdown",
   "metadata": {},
   "source": [
    "### 入力\n",
    "$X$"
   ]
  },
  {
   "cell_type": "markdown",
   "metadata": {},
   "source": [
    "### 出力\n",
    "答えを整数として出力"
   ]
  },
  {
   "cell_type": "markdown",
   "metadata": {},
   "source": [
    "### 入力例(1)\n",
    "152"
   ]
  },
  {
   "cell_type": "markdown",
   "metadata": {},
   "source": [
    "### 出力例(1)\n",
    "159"
   ]
  },
  {
   "cell_type": "markdown",
   "metadata": {},
   "source": [
    "### 入力例(2)\n",
    "88"
   ]
  },
  {
   "cell_type": "markdown",
   "metadata": {},
   "source": [
    "### 出力例(2)\n",
    "88"
   ]
  },
  {
   "cell_type": "markdown",
   "metadata": {},
   "source": [
    "### 入力例(3)\n",
    "8989898989"
   ]
  },
  {
   "cell_type": "markdown",
   "metadata": {},
   "source": [
    "### 出力例(3)\n",
    "9876543210"
   ]
  },
  {
   "cell_type": "markdown",
   "metadata": {},
   "source": [
    "### 解説\n",
    "$10^{18}$未満の等差数はそう多くない．という事実が最重要．\n",
    "等差数の元となる等差数列(例:$(2,4,6,8)→2468$)の候補を考える．\n",
    "- 初項が1以上9以下(一桁の整数)\n",
    "- 交差が-9以上8以下(9から-9して0はあり得る．同様に1から9もある．初項に0はないから9は無理)\n",
    "- 数列の長さは1以上18以下(制約から)  \n",
    "\n",
    "この条件を満たすのは$9×18×18 = 2916$個以下である．\n",
    "しかしさらに$(7,1,-5)などは等差数にはなれない．よって条件に\n",
    "- 第2項以降はすべて0以上9以下\n",
    "\n",
    "となる．"
   ]
  },
  {
   "cell_type": "code",
   "execution_count": null,
   "metadata": {},
   "outputs": [],
   "source": [
    "### 実装例\n",
    "\n",
    "X = int(input())\n",
    "lis = []\n",
    "for fir in range(1,10,1):\n",
    "    for d in range(-9,9,1):\n",
    "        num = fir\n",
    "        if not num in lis:\n",
    "            lis.append(num)\n",
    "        for i in range(1,18):\n",
    "            if(fir+d*i>9 or fir+d*i<0):\n",
    "                break\n",
    "            num = num*10+fir+d*i\n",
    "            if not num in lis:\n",
    "                lis.append(num)\n",
    "lis.sort()\n",
    "\n",
    "for i in range(len(lis)):\n",
    "    if(lis[i]>=X):\n",
    "        print(lis[i])\n",
    "        break"
   ]
  }
 ],
 "metadata": {
  "interpreter": {
   "hash": "da216224a89ef4fbb73abd6fc5eb640fbc60e5a70737ec6bd12200ce5b3f421e"
  },
  "kernelspec": {
   "display_name": "Python 3.9.6 64-bit ('atcoder': venv)",
   "language": "python",
   "name": "python3"
  },
  "language_info": {
   "name": "python",
   "version": "3.9.6"
  },
  "orig_nbformat": 4
 },
 "nbformat": 4,
 "nbformat_minor": 2
}
