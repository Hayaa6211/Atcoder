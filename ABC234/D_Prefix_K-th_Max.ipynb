{
 "cells": [
  {
   "cell_type": "markdown",
   "metadata": {},
   "source": [
    "### 問題文\n",
    "$(1,2...N)$の順列 $P = (P_1,P_2,...P_N)$，および正整数Kが与えられます．  \n",
    "$i = K,K+1,...N$について以下を求める．\n",
    "- $P$の先頭$i$項のうち，$K$番目に大きい値"
   ]
  },
  {
   "cell_type": "markdown",
   "metadata": {},
   "source": [
    "### 入力\n",
    "\n",
    "$N$ $K$  \n",
    "$P_1 P_2 ... P_N$"
   ]
  },
  {
   "cell_type": "markdown",
   "metadata": {},
   "source": [
    "### 出力\n",
    "$i = K,K+1,...,N$についてこの順に，問題文中で問われている値を改行区切りで出力せよ．"
   ]
  },
  {
   "cell_type": "markdown",
   "metadata": {},
   "source": [
    "### 入力例1\n",
    "```\n",
    "3 2\n",
    "1 2 3\n",
    "```"
   ]
  },
  {
   "cell_type": "markdown",
   "metadata": {},
   "source": [
    "### 出力例1\n",
    "```\n",
    "1\n",
    "2\n",
    "```\n",
    "- $P$の先頭2項$(P_1,P_2) = (1,2)$の中で$K = 2$番目に大きい値は1となります．\n",
    "- $P$の先頭3項$(P_1,P_2,P_3) = (1,2,3)$の中で$K = 2$番目に大きい値は2となります．"
   ]
  },
  {
   "cell_type": "markdown",
   "metadata": {},
   "source": [
    "### 解説\n",
    "\n",
    "##### 誤った回答\n",
    "```python\n",
    "n,k = map(int,input().split())\n",
    "p = list(map(int,input().split()))\n",
    " \n",
    "for i in range(n-k+1):\n",
    "    a = p[:k+i]\n",
    "    a.sort()\n",
    "    b = a.pop(-k)\n",
    "    print(b)\n",
    "```\n",
    "a = $0~k+i$  \n",
    "aをソート  \n",
    "b = k番目に高いものを取得\n",
    "`これだと毎回ソートするので計算時間がbaka`\n",
    "\n",
    "結論から言うと以下のアルゴリズムを使用する．\n",
    "> - 集合$S_K$を${P_1,P_2,...,P_K}$で初期化\n",
    "> - $i = K+1,K+2,...,N$についてこの順に以下の操作を行う\n",
    "> 1. $S_iを$S_i-1$で初期化\n",
    "> 2. $S_i-1$に含まれる要素のうち値が最小のものを$x$とする．$x<P_i$ならば$S_i$から$x$を削除"
   ]
  },
  {
   "cell_type": "code",
   "execution_count": null,
   "metadata": {},
   "outputs": [],
   "source": [
    "### 実装例\n",
    "\n",
    "import heapq\n",
    "N,K = map(int,input().split())\n",
    "P = list(map(int,input().split()))\n",
    "que = P[:K]                     #最初の先頭K項までをqueに入れる\n",
    "print(min(que))                 #その中の最小が一回目\n",
    "heapq.heapify(que)              #優先度付きでソート\n",
    "\n",
    "for i in range(K,N):            #K~Nだけ回す\n",
    "    minima = heapq.heappop(que) #最小値を取得\n",
    "    minima = max(minima,P[i])   #minimaかP[i]の高い方\n",
    "    heapq.heappush(que,minima)  #minimaを追加\n",
    "    ans = heapq.heappop(que)    #queの最小値を取得\n",
    "    print(ans)                  #プリント\n",
    "    heapq.heappush(que,ans)     #ansを追加"
   ]
  }
 ],
 "metadata": {
  "interpreter": {
   "hash": "da216224a89ef4fbb73abd6fc5eb640fbc60e5a70737ec6bd12200ce5b3f421e"
  },
  "kernelspec": {
   "display_name": "Python 3.9.6 64-bit ('atcoder': venv)",
   "language": "python",
   "name": "python3"
  },
  "language_info": {
   "name": "python",
   "version": "3.9.6"
  },
  "orig_nbformat": 4
 },
 "nbformat": 4,
 "nbformat_minor": 2
}
